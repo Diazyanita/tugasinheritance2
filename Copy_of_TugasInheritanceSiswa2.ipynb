{
  "nbformat": 4,
  "nbformat_minor": 0,
  "metadata": {
    "colab": {
      "provenance": [],
      "include_colab_link": true
    },
    "kernelspec": {
      "name": "python3",
      "display_name": "Python 3"
    },
    "language_info": {
      "name": "python"
    }
  },
  "cells": [
    {
      "cell_type": "markdown",
      "metadata": {
        "id": "view-in-github",
        "colab_type": "text"
      },
      "source": [
        "<a href=\"https://colab.research.google.com/github/Diazyanita/tugasinheritance2/blob/main/Copy_of_TugasInheritanceSiswa2.ipynb\" target=\"_parent\"><img src=\"https://colab.research.google.com/assets/colab-badge.svg\" alt=\"Open In Colab\"/></a>"
      ]
    },
    {
      "cell_type": "markdown",
      "source": [
        "Buatlah tiga kelas: User, Siswa, dan Guru. Class Siswa dan Guru mewarisi atribute dan fungsi dari class User. Keduanya menambahkan atribut dan fungsi tambahan sesuai dengan peran masing-masing.\n",
        "\n",
        "Output dari program ini akan menampilkan informasi seorang siswa dan seorang guru dengan menggunakan fungsi tampil_info() yang diwarisi dari class User. Untuk info user yang ditampilkan silakan ditentukan sendiri minimal ada nama dan umur.\n",
        "\n",
        "Untuk informasi khusus dari siswa dan guru silakan tentukan sendiri, minimal satu atribute tambahan yang membedakan antara siswa dan guru."
      ],
      "metadata": {
        "id": "oWYx5WDsIouf"
      }
    },
    {
      "cell_type": "code",
      "execution_count": 7,
      "metadata": {
        "id": "VQWWW4rpH9ve"
      },
      "outputs": [],
      "source": [
        "#Class User\n",
        "class User :\n",
        " def __init__ (self, nama, umur, hobi):\n",
        "\n",
        "    self.nama = nama\n",
        "    self.umur = umur\n",
        "    self.hobi = hobi\n",
        "\n",
        "def tampil_info (self):\n",
        "    pass"
      ]
    },
    {
      "cell_type": "code",
      "source": [
        "#Class Siswa\n",
        "class Siswa (User):\n",
        " def __init__ (self,  nama, umur, hobi):\n",
        "\n",
        "    super().__init__(nama, umur, hobi)\n",
        "\n",
        "    self.hobi = hobi\n",
        "\n",
        " def tampil_info (self):\n",
        "    return self.hobi"
      ],
      "metadata": {
        "id": "i_iBjMciJJc5"
      },
      "execution_count": 8,
      "outputs": []
    },
    {
      "cell_type": "code",
      "source": [
        "#Class Guru\n",
        "class Guru (User):\n",
        "\n",
        " def __init__ (self,  nama, umur, asal,):\n",
        "\n",
        "    super().__init__(nama, umur, asal)\n",
        "\n",
        "    self.asal = asal\n",
        "\n",
        "def tampil_info (self):\n",
        "   return self.asal\n",
        ""
      ],
      "metadata": {
        "id": "lrnlKm6sJMjp"
      },
      "execution_count": 9,
      "outputs": []
    },
    {
      "cell_type": "code",
      "source": [
        "#Program utama untuk menampilkan info\n",
        "siswa = Siswa(\"kana\", \"18\", \"Memasak\")\n",
        "guru = Guru(\"makabe\", \"24\", \"Bekasi\")\n",
        "\n",
        "#Menampilkan info\n",
        "print(f\"Nama: {siswa.nama} umur : {siswa.umur} asal : {siswa.hobi} \")\n",
        "print(f\"Nama : {guru.nama} umur : {guru.umur} asal : {guru.asal}\")"
      ],
      "metadata": {
        "id": "VDGIma_2JOVx",
        "colab": {
          "base_uri": "https://localhost:8080/"
        },
        "outputId": "10a053f2-226b-4c2c-b1be-12c905982845"
      },
      "execution_count": 10,
      "outputs": [
        {
          "output_type": "stream",
          "name": "stdout",
          "text": [
            "Nama: kana umur : 18 asal : Memasak \n",
            "Nama : makabe umur : 24 asal : Bekasi\n"
          ]
        }
      ]
    }
  ]
}